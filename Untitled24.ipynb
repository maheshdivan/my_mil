{
  "nbformat": 4,
  "nbformat_minor": 0,
  "metadata": {
    "colab": {
      "name": "Untitled24.ipynb",
      "version": "0.3.2",
      "provenance": [],
      "include_colab_link": true
    },
    "kernelspec": {
      "name": "python3",
      "display_name": "Python 3"
    }
  },
  "cells": [
    {
      "cell_type": "markdown",
      "metadata": {
        "id": "view-in-github",
        "colab_type": "text"
      },
      "source": [
        "[View in Colaboratory](https://colab.research.google.com/github/maheshdivan/my_mil/blob/master/Untitled24.ipynb)"
      ]
    },
    {
      "metadata": {
        "id": "-CeyGbRArHxB",
        "colab_type": "code",
        "colab": {
          "base_uri": "https://localhost:8080/",
          "height": 34
        },
        "outputId": "fc8ef435-e002-49d8-b48d-10cea2fdd621"
      },
      "cell_type": "code",
      "source": [
        "from keras.datasets import reuters"
      ],
      "execution_count": 2,
      "outputs": [
        {
          "output_type": "stream",
          "text": [
            "Using TensorFlow backend.\n"
          ],
          "name": "stderr"
        }
      ]
    },
    {
      "metadata": {
        "id": "1PfhuT6wrQrW",
        "colab_type": "code",
        "colab": {
          "base_uri": "https://localhost:8080/",
          "height": 51
        },
        "outputId": "05143c39-3b92-4d09-f9bc-29f5b1accece"
      },
      "cell_type": "code",
      "source": [
        "(train_data,train_labels),(test_data,test_labels)=reuters.load_data(num_words=10000)"
      ],
      "execution_count": 3,
      "outputs": [
        {
          "output_type": "stream",
          "text": [
            "Downloading data from https://s3.amazonaws.com/text-datasets/reuters.npz\n",
            "2113536/2110848 [==============================] - 2s 1us/step\n"
          ],
          "name": "stdout"
        }
      ]
    },
    {
      "metadata": {
        "id": "Ce-wO7QIrjli",
        "colab_type": "code",
        "colab": {
          "base_uri": "https://localhost:8080/",
          "height": 34
        },
        "outputId": "487f3feb-0eb2-4cdc-cf82-04a23f4eae51"
      },
      "cell_type": "code",
      "source": [
        "len(train_data)"
      ],
      "execution_count": 4,
      "outputs": [
        {
          "output_type": "execute_result",
          "data": {
            "text/plain": [
              "8982"
            ]
          },
          "metadata": {
            "tags": []
          },
          "execution_count": 4
        }
      ]
    },
    {
      "metadata": {
        "id": "yHbuQv30rown",
        "colab_type": "code",
        "colab": {
          "base_uri": "https://localhost:8080/",
          "height": 34
        },
        "outputId": "83517186-ca89-4a40-baeb-f0f0d8c38a41"
      },
      "cell_type": "code",
      "source": [
        "len(test_data)"
      ],
      "execution_count": 5,
      "outputs": [
        {
          "output_type": "execute_result",
          "data": {
            "text/plain": [
              "2246"
            ]
          },
          "metadata": {
            "tags": []
          },
          "execution_count": 5
        }
      ]
    },
    {
      "metadata": {
        "id": "_8-IGOhbrrZ4",
        "colab_type": "code",
        "colab": {
          "base_uri": "https://localhost:8080/",
          "height": 969
        },
        "outputId": "97fc0a15-1508-4eda-a806-2be72e6cc87c"
      },
      "cell_type": "code",
      "source": [
        "train_data[1]"
      ],
      "execution_count": 6,
      "outputs": [
        {
          "output_type": "execute_result",
          "data": {
            "text/plain": [
              "[1,\n",
              " 3267,\n",
              " 699,\n",
              " 3434,\n",
              " 2295,\n",
              " 56,\n",
              " 2,\n",
              " 7511,\n",
              " 9,\n",
              " 56,\n",
              " 3906,\n",
              " 1073,\n",
              " 81,\n",
              " 5,\n",
              " 1198,\n",
              " 57,\n",
              " 366,\n",
              " 737,\n",
              " 132,\n",
              " 20,\n",
              " 4093,\n",
              " 7,\n",
              " 2,\n",
              " 49,\n",
              " 2295,\n",
              " 2,\n",
              " 1037,\n",
              " 3267,\n",
              " 699,\n",
              " 3434,\n",
              " 8,\n",
              " 7,\n",
              " 10,\n",
              " 241,\n",
              " 16,\n",
              " 855,\n",
              " 129,\n",
              " 231,\n",
              " 783,\n",
              " 5,\n",
              " 4,\n",
              " 587,\n",
              " 2295,\n",
              " 2,\n",
              " 2,\n",
              " 775,\n",
              " 7,\n",
              " 48,\n",
              " 34,\n",
              " 191,\n",
              " 44,\n",
              " 35,\n",
              " 1795,\n",
              " 505,\n",
              " 17,\n",
              " 12]"
            ]
          },
          "metadata": {
            "tags": []
          },
          "execution_count": 6
        }
      ]
    },
    {
      "metadata": {
        "id": "2_gP2JXesptm",
        "colab_type": "code",
        "colab": {}
      },
      "cell_type": "code",
      "source": [
        ""
      ],
      "execution_count": 0,
      "outputs": []
    },
    {
      "metadata": {
        "id": "Sy-0wM0wr293",
        "colab_type": "code",
        "colab": {
          "base_uri": "https://localhost:8080/",
          "height": 51
        },
        "outputId": "b6f0c739-56a4-4f80-cf67-8fb5245b94ad"
      },
      "cell_type": "code",
      "source": [
        "word_index=reuters.get_word_index()\n",
        "reverse_word_index=dict([(value,key) for (key,value) in word_index.items()])\n",
        "decoded_newswire = ' '.join([reverse_word_index.get(i-3,'?') for i in train_data[10]])"
      ],
      "execution_count": 7,
      "outputs": [
        {
          "output_type": "stream",
          "text": [
            "Downloading data from https://s3.amazonaws.com/text-datasets/reuters_word_index.json\n",
            "557056/550378 [==============================] - 1s 1us/step\n"
          ],
          "name": "stdout"
        }
      ]
    },
    {
      "metadata": {
        "id": "XG6KW_fOtOTc",
        "colab_type": "code",
        "colab": {
          "base_uri": "https://localhost:8080/",
          "height": 34
        },
        "outputId": "62f0d58c-67da-4bed-8593-0e57a69a3a3a"
      },
      "cell_type": "code",
      "source": [
        "train_labels[8981]"
      ],
      "execution_count": 8,
      "outputs": [
        {
          "output_type": "execute_result",
          "data": {
            "text/plain": [
              "25"
            ]
          },
          "metadata": {
            "tags": []
          },
          "execution_count": 8
        }
      ]
    },
    {
      "metadata": {
        "id": "GSkRSrGKtRSg",
        "colab_type": "code",
        "colab": {}
      },
      "cell_type": "code",
      "source": [
        "import numpy as np"
      ],
      "execution_count": 0,
      "outputs": []
    },
    {
      "metadata": {
        "id": "s4qJTPRdtzaI",
        "colab_type": "code",
        "colab": {}
      },
      "cell_type": "code",
      "source": [
        "def vectorize_sequences(sequences,dimension=10000):\n",
        "  results=np.zeros((len(sequences),dimension))\n",
        "  for i, sequence in enumerate(sequences):\n",
        "    results[i,sequence] = 1\n",
        "  return results  "
      ],
      "execution_count": 0,
      "outputs": []
    },
    {
      "metadata": {
        "id": "tCWxkWB_uPB-",
        "colab_type": "code",
        "colab": {}
      },
      "cell_type": "code",
      "source": [
        "x_train=vectorize_sequences(train_data)\n",
        "x_test=vectorize_sequences(test_data)"
      ],
      "execution_count": 0,
      "outputs": []
    },
    {
      "metadata": {
        "id": "_cPprkm6uatY",
        "colab_type": "code",
        "colab": {
          "base_uri": "https://localhost:8080/",
          "height": 136
        },
        "outputId": "fe133f41-b8e9-4970-8cb4-1941ed8a8bd6"
      },
      "cell_type": "code",
      "source": [
        "x_train"
      ],
      "execution_count": 12,
      "outputs": [
        {
          "output_type": "execute_result",
          "data": {
            "text/plain": [
              "array([[0., 1., 1., ..., 0., 0., 0.],\n",
              "       [0., 1., 1., ..., 0., 0., 0.],\n",
              "       [0., 1., 1., ..., 0., 0., 0.],\n",
              "       ...,\n",
              "       [0., 1., 1., ..., 0., 0., 0.],\n",
              "       [0., 1., 1., ..., 0., 0., 0.],\n",
              "       [0., 1., 1., ..., 0., 0., 0.]])"
            ]
          },
          "metadata": {
            "tags": []
          },
          "execution_count": 12
        }
      ]
    },
    {
      "metadata": {
        "id": "h8mQADi-uueU",
        "colab_type": "code",
        "colab": {}
      },
      "cell_type": "code",
      "source": [
        "from keras.utils.np_utils import to_categorical\n"
      ],
      "execution_count": 0,
      "outputs": []
    },
    {
      "metadata": {
        "id": "nTQqeye0uwJI",
        "colab_type": "code",
        "colab": {}
      },
      "cell_type": "code",
      "source": [
        "one_hot_train_lebels=to_categorical(train_labels)\n",
        "one_hot_test_labels=to_categorical(test_labels)"
      ],
      "execution_count": 0,
      "outputs": []
    },
    {
      "metadata": {
        "id": "MwPSASHvuxf4",
        "colab_type": "code",
        "colab": {
          "base_uri": "https://localhost:8080/",
          "height": 136
        },
        "outputId": "514108d2-ea86-4d44-9ab3-9842d7e9d50c"
      },
      "cell_type": "code",
      "source": [
        "one_hot_train_lebels"
      ],
      "execution_count": 15,
      "outputs": [
        {
          "output_type": "execute_result",
          "data": {
            "text/plain": [
              "array([[0., 0., 0., ..., 0., 0., 0.],\n",
              "       [0., 0., 0., ..., 0., 0., 0.],\n",
              "       [0., 0., 0., ..., 0., 0., 0.],\n",
              "       ...,\n",
              "       [0., 0., 0., ..., 0., 0., 0.],\n",
              "       [0., 0., 0., ..., 0., 0., 0.],\n",
              "       [0., 0., 0., ..., 0., 0., 0.]], dtype=float32)"
            ]
          },
          "metadata": {
            "tags": []
          },
          "execution_count": 15
        }
      ]
    },
    {
      "metadata": {
        "id": "MGS0DPfbvQAh",
        "colab_type": "code",
        "colab": {
          "base_uri": "https://localhost:8080/",
          "height": 136
        },
        "outputId": "5bb4a774-05ef-4942-a20c-67a83518be27"
      },
      "cell_type": "code",
      "source": [
        "one_hot_test_labels"
      ],
      "execution_count": 16,
      "outputs": [
        {
          "output_type": "execute_result",
          "data": {
            "text/plain": [
              "array([[0., 0., 0., ..., 0., 0., 0.],\n",
              "       [0., 0., 0., ..., 0., 0., 0.],\n",
              "       [0., 1., 0., ..., 0., 0., 0.],\n",
              "       ...,\n",
              "       [0., 0., 0., ..., 0., 0., 0.],\n",
              "       [0., 0., 0., ..., 0., 0., 0.],\n",
              "       [0., 0., 0., ..., 0., 0., 0.]], dtype=float32)"
            ]
          },
          "metadata": {
            "tags": []
          },
          "execution_count": 16
        }
      ]
    },
    {
      "metadata": {
        "id": "AkU6cFtVvRfX",
        "colab_type": "code",
        "colab": {}
      },
      "cell_type": "code",
      "source": [
        "from keras import models\n",
        "from keras import layers"
      ],
      "execution_count": 0,
      "outputs": []
    },
    {
      "metadata": {
        "id": "ABKlwRRWv7Ye",
        "colab_type": "code",
        "colab": {}
      },
      "cell_type": "code",
      "source": [
        "model=models.Sequential()\n",
        "model.add(layers.Dense(64,activation='relu',input_shape=(10000,)))\n",
        "model.add(layers.Dense(64,activation='relu'))\n",
        "model.add(layers.Dense(46,activation='softmax'))"
      ],
      "execution_count": 0,
      "outputs": []
    },
    {
      "metadata": {
        "id": "0PG7Mmshwu0Z",
        "colab_type": "code",
        "colab": {}
      },
      "cell_type": "code",
      "source": [
        "model.compile(optimizer='rmsprop',\n",
        "             loss='categorical_crossentropy',\n",
        "             metrics=['accuracy'])"
      ],
      "execution_count": 0,
      "outputs": []
    },
    {
      "metadata": {
        "id": "Q5U-E7KBxSj-",
        "colab_type": "code",
        "colab": {}
      },
      "cell_type": "code",
      "source": [
        "x_val=x_train[:1000]\n",
        "partial_x_train=x_train[1000:]\n",
        "y_val=one_hot_train_lebels[:1000]\n",
        "partial_y_train=one_hot_train_lebels[1000:]"
      ],
      "execution_count": 0,
      "outputs": []
    },
    {
      "metadata": {
        "id": "UUxaMNfCYh0n",
        "colab_type": "code",
        "colab": {
          "base_uri": "https://localhost:8080/",
          "height": 360
        },
        "outputId": "694205aa-b959-4539-cf1d-bedc17e27b3f"
      },
      "cell_type": "code",
      "source": [
        "history=model.fit(partial_x_train,partial_y_train,epochs=9,batch_size=512,validation_data=(x_val,y_val))"
      ],
      "execution_count": 45,
      "outputs": [
        {
          "output_type": "stream",
          "text": [
            "Train on 7982 samples, validate on 1000 samples\n",
            "Epoch 1/9\n",
            "7982/7982 [==============================] - 1s 129us/step - loss: 0.0912 - acc: 0.9587 - val_loss: 1.2631 - val_acc: 0.7970\n",
            "Epoch 2/9\n",
            "7982/7982 [==============================] - 1s 133us/step - loss: 0.0857 - acc: 0.9609 - val_loss: 1.2640 - val_acc: 0.7920\n",
            "Epoch 3/9\n",
            "7982/7982 [==============================] - 1s 154us/step - loss: 0.0889 - acc: 0.9603 - val_loss: 1.2854 - val_acc: 0.7900\n",
            "Epoch 4/9\n",
            "7982/7982 [==============================] - 1s 154us/step - loss: 0.0914 - acc: 0.9589 - val_loss: 1.2527 - val_acc: 0.7890\n",
            "Epoch 5/9\n",
            "7982/7982 [==============================] - 1s 151us/step - loss: 0.0866 - acc: 0.9598 - val_loss: 1.3440 - val_acc: 0.7860\n",
            "Epoch 6/9\n",
            "7982/7982 [==============================] - 1s 156us/step - loss: 0.0901 - acc: 0.9577 - val_loss: 1.3321 - val_acc: 0.7810\n",
            "Epoch 7/9\n",
            "7982/7982 [==============================] - 1s 159us/step - loss: 0.0886 - acc: 0.9593 - val_loss: 1.3131 - val_acc: 0.7780\n",
            "Epoch 8/9\n",
            "7982/7982 [==============================] - 1s 153us/step - loss: 0.0860 - acc: 0.9563 - val_loss: 1.2709 - val_acc: 0.7910\n",
            "Epoch 9/9\n",
            "6656/7982 [========================>.....] - ETA: 0s - loss: 0.0835 - acc: 0.9602"
          ],
          "name": "stdout"
        },
        {
          "output_type": "stream",
          "text": [
            "7982/7982 [==============================] - 1s 153us/step - loss: 0.0879 - acc: 0.9589 - val_loss: 1.2877 - val_acc: 0.7960\n"
          ],
          "name": "stdout"
        }
      ]
    },
    {
      "metadata": {
        "id": "2WFYyDqAZH2S",
        "colab_type": "code",
        "colab": {
          "base_uri": "https://localhost:8080/",
          "height": 376
        },
        "outputId": "4cf138ae-267a-4bec-ac37-5f59277435c4"
      },
      "cell_type": "code",
      "source": [
        "import matplotlib.pyplot as plt\n",
        "loss=history.history['loss']\n",
        "val_loss=history.history['val_loss']\n",
        "epochs=range(1,len(loss)+1)\n",
        "plt.plot(epochs,loss,'bo',label=\"Training_Loss\")\n",
        "plt.plot(epochs,val_loss,'b',label='validation loss')\n",
        "plt.title(\"Training and Validation Loss\")\n",
        "plt.xlabel('Epochs')\n",
        "plt.ylabel('Loss')\n",
        "plt.legend()\n",
        "plt.show()"
      ],
      "execution_count": 46,
      "outputs": [
        {
          "output_type": "display_data",
          "data": {
            "image/png": "[encoded data removed]",
            "text/plain": [
              "<matplotlib.figure.Figure at 0x7f19bcb03940>"
            ]
          },
          "metadata": {
            "tags": []
          }
        }
      ]
    },
    {
      "metadata": {
        "id": "TF0BojgpaiLb",
        "colab_type": "code",
        "colab": {
          "base_uri": "https://localhost:8080/",
          "height": 376
        },
        "outputId": "72e96215-6cf5-4bb7-bb8b-0cab9606779c"
      },
      "cell_type": "code",
      "source": [
        "plt.clf\n",
        "acc=history.history['acc']\n",
        "val_acc=history.history['val_acc']\n",
        "epochs=range(1,len(loss)+1)\n",
        "plt.plot(epochs,acc,'bo',label=\"Training_Actual\")\n",
        "plt.plot(epochs,val_acc,'b',label='validation Actual')\n",
        "plt.title(\"Training and Validation Actual\")\n",
        "plt.xlabel('Epochs')\n",
        "plt.ylabel('Loss')\n",
        "plt.legend()\n",
        "plt.show()"
      ],
      "execution_count": 47,
      "outputs": [
        {
          "output_type": "display_data",
          "data": {
            "image/png": "[encoded data removed]",
            "text/plain": [
              "<matplotlib.figure.Figure at 0x7f19bcafbd68>"
            ]
          },
          "metadata": {
            "tags": []
          }
        }
      ]
    },
    {
      "metadata": {
        "id": "Hx_VP8CSa6cJ",
        "colab_type": "code",
        "colab": {
          "base_uri": "https://localhost:8080/",
          "height": 34
        },
        "outputId": "9a1ac3f3-9043-4c46-9a98-7217f47bedb6"
      },
      "cell_type": "code",
      "source": [
        "results=model.evaluate(x_test,one_hot_test_labels)"
      ],
      "execution_count": 48,
      "outputs": [
        {
          "output_type": "stream",
          "text": [
            "2246/2246 [==============================] - 0s 126us/step\n"
          ],
          "name": "stdout"
        }
      ]
    },
    {
      "metadata": {
        "id": "KtA8DGH9bmpN",
        "colab_type": "code",
        "colab": {
          "base_uri": "https://localhost:8080/",
          "height": 34
        },
        "outputId": "40440c2e-2ad1-4254-e8c0-59b3addde954"
      },
      "cell_type": "code",
      "source": [
        "results\n"
      ],
      "execution_count": 49,
      "outputs": [
        {
          "output_type": "execute_result",
          "data": {
            "text/plain": [
              "[1.485829860529301, 0.7756010685663401]"
            ]
          },
          "metadata": {
            "tags": []
          },
          "execution_count": 49
        }
      ]
    },
    {
      "metadata": {
        "id": "d5arOhexcVdu",
        "colab_type": "code",
        "colab": {}
      },
      "cell_type": "code",
      "source": [
        "predictions=model.predict(x_test)"
      ],
      "execution_count": 0,
      "outputs": []
    },
    {
      "metadata": {
        "id": "T9qieOZGdrb4",
        "colab_type": "code",
        "colab": {
          "base_uri": "https://localhost:8080/",
          "height": 34
        },
        "outputId": "b2541c53-d59c-493b-817d-300dc295c569"
      },
      "cell_type": "code",
      "source": [
        "predictions[0].shape"
      ],
      "execution_count": 51,
      "outputs": [
        {
          "output_type": "execute_result",
          "data": {
            "text/plain": [
              "(46,)"
            ]
          },
          "metadata": {
            "tags": []
          },
          "execution_count": 51
        }
      ]
    },
    {
      "metadata": {
        "id": "Ie45k0s6duxP",
        "colab_type": "code",
        "colab": {
          "base_uri": "https://localhost:8080/",
          "height": 34
        },
        "outputId": "5475a0bb-c890-4975-c0c3-2eb7a9584991"
      },
      "cell_type": "code",
      "source": [
        "np.sum(predictions[0])"
      ],
      "execution_count": 52,
      "outputs": [
        {
          "output_type": "execute_result",
          "data": {
            "text/plain": [
              "0.9999999"
            ]
          },
          "metadata": {
            "tags": []
          },
          "execution_count": 52
        }
      ]
    },
    {
      "metadata": {
        "id": "pVa-mlW_dyXv",
        "colab_type": "code",
        "colab": {}
      },
      "cell_type": "code",
      "source": [
        "model=models.Sequential()\n",
        "model.add(layers.Dense(128,activation='relu',input_shape=(10000,)))\n",
        "model.add(layers.Dense(128,activation='relu'))\n",
        "model.add(layers.Dense(128,activation='relu'))\n",
        "model.add(layers.Dense(64,activation='relu'))\n",
        "model.add(layers.Dense(46,activation='softmax'))"
      ],
      "execution_count": 0,
      "outputs": []
    },
    {
      "metadata": {
        "id": "dCiNj6iPeJu0",
        "colab_type": "code",
        "colab": {
          "base_uri": "https://localhost:8080/",
          "height": 377
        },
        "outputId": "df2b134f-b5e5-4db7-ca03-787d979dccf7"
      },
      "cell_type": "code",
      "source": [
        "model.compile(optimizer='rmsprop',\n",
        "             loss='categorical_crossentropy',\n",
        "             metrics=['accuracy'])\n",
        "\n",
        "model.fit(partial_x_train,partial_y_train,epochs=9,batch_size=128,validation_data=(x_val,y_val))"
      ],
      "execution_count": 73,
      "outputs": [
        {
          "output_type": "stream",
          "text": [
            "Train on 7982 samples, validate on 1000 samples\n",
            "Epoch 1/9\n",
            "7982/7982 [==============================] - 3s 376us/step - loss: 1.6924 - acc: 0.6247 - val_loss: 1.2032 - val_acc: 0.7350\n",
            "Epoch 2/9\n",
            "7982/7982 [==============================] - 3s 318us/step - loss: 0.9061 - acc: 0.7903 - val_loss: 1.0915 - val_acc: 0.7600\n",
            "Epoch 3/9\n",
            "7982/7982 [==============================] - 3s 314us/step - loss: 0.5850 - acc: 0.8612 - val_loss: 1.0532 - val_acc: 0.7800\n",
            "Epoch 4/9\n",
            "7982/7982 [==============================] - 3s 321us/step - loss: 0.3975 - acc: 0.9114 - val_loss: 1.2954 - val_acc: 0.7460\n",
            "Epoch 5/9\n",
            "7982/7982 [==============================] - 3s 318us/step - loss: 0.2868 - acc: 0.9340 - val_loss: 1.1114 - val_acc: 0.7960\n",
            "Epoch 6/9\n",
            "7982/7982 [==============================] - 3s 327us/step - loss: 0.2373 - acc: 0.9445 - val_loss: 1.1673 - val_acc: 0.7930\n",
            "Epoch 7/9\n",
            " 896/7982 [==>...........................] - ETA: 2s - loss: 0.1757 - acc: 0.9554"
          ],
          "name": "stdout"
        },
        {
          "output_type": "stream",
          "text": [
            "7982/7982 [==============================] - 3s 323us/step - loss: 0.1974 - acc: 0.9489 - val_loss: 1.1898 - val_acc: 0.7920\n",
            "Epoch 8/9\n",
            "7982/7982 [==============================] - 3s 322us/step - loss: 0.1805 - acc: 0.9508 - val_loss: 1.2164 - val_acc: 0.7870\n",
            "Epoch 9/9\n",
            "7982/7982 [==============================] - 3s 321us/step - loss: 0.1588 - acc: 0.9544 - val_loss: 1.1963 - val_acc: 0.7940\n"
          ],
          "name": "stdout"
        },
        {
          "output_type": "execute_result",
          "data": {
            "text/plain": [
              "<keras.callbacks.History at 0x7f19b4b6b4a8>"
            ]
          },
          "metadata": {
            "tags": []
          },
          "execution_count": 73
        }
      ]
    },
    {
      "metadata": {
        "id": "7a-T2S-JeWf3",
        "colab_type": "code",
        "colab": {
          "base_uri": "https://localhost:8080/",
          "height": 34
        },
        "outputId": "536c657e-042d-4cc9-fecc-570857861041"
      },
      "cell_type": "code",
      "source": [
        "results=model.evaluate(x_test,one_hot_test_labels)"
      ],
      "execution_count": 74,
      "outputs": [
        {
          "output_type": "stream",
          "text": [
            "2246/2246 [==============================] - 0s 178us/step\n"
          ],
          "name": "stdout"
        }
      ]
    },
    {
      "metadata": {
        "id": "eCkQmcIDeg4F",
        "colab_type": "code",
        "colab": {
          "base_uri": "https://localhost:8080/",
          "height": 34
        },
        "outputId": "59d8f95d-b07d-4eef-ab12-3a970f8c1e68"
      },
      "cell_type": "code",
      "source": [
        "results"
      ],
      "execution_count": 75,
      "outputs": [
        {
          "output_type": "execute_result",
          "data": {
            "text/plain": [
              "[1.4064381646982602, 0.7747105966692829]"
            ]
          },
          "metadata": {
            "tags": []
          },
          "execution_count": 75
        }
      ]
    },
    {
      "metadata": {
        "id": "BhPj9vW0eh_2",
        "colab_type": "code",
        "colab": {}
      },
      "cell_type": "code",
      "source": [
        ""
      ],
      "execution_count": 0,
      "outputs": []
    }
  ]
}